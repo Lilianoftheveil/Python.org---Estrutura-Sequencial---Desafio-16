{
 "cells": [
  {
   "cell_type": "code",
   "execution_count": null,
   "id": "f704985c",
   "metadata": {},
   "outputs": [],
   "source": [
    "Python - Lista de Exercícios (Estrutura Sequencial) \n",
    "link: https://wiki.python.org.br/EstruturaSequencial"
   ]
  },
  {
   "cell_type": "markdown",
   "id": "f36f0365",
   "metadata": {},
   "source": [
    "16) Faça um programa para uma loja de tintas. O programa deverá pedir o tamanho em metros quadrados da área a ser pintada. Considere que a cobertura da tinta é de 1 litro para cada 3 metros quadrados e que a tinta é vendida em latas de 18 litros, que custam 80,00 reais. Informe ao usuário a quantidades de latas de tinta a serem compradas e o preço total."
   ]
  },
  {
   "cell_type": "code",
   "execution_count": null,
   "id": "291025e7",
   "metadata": {},
   "outputs": [],
   "source": [
    "Obs.: Visando desenvolver o programa de forma mais dinâmica e menos suscetível a erros, adicionei \n",
    "outras estruturas no corpo do código. De modo que apenas números positivos, maiores do que zero,\n",
    "sejam aceitos durante sua execução."
   ]
  },
  {
   "cell_type": "code",
   "execution_count": null,
   "id": "eb6d47b6",
   "metadata": {},
   "outputs": [],
   "source": [
    "while True:\n",
    "  x = input(\"Tamanho da área em metros quadrados: \")\n",
    "  try:\n",
    "    float(x)\n",
    "    a = float(x) / 3\n",
    "    if a > 18:\n",
    "      b = 1\n",
    "      while a > 18:\n",
    "        a = a - 18\n",
    "        b = b + 1\n",
    "      print(f\"Número de latas necessárias: {int(b)}\")\n",
    "      print(f\"Preço total: R$ {int(b) * 80},00\")\n",
    "      break\n",
    "    elif a <= 0:\n",
    "      print(\"Quantidade de latas necessárias: 0\")\n",
    "      print(\"Valor total: R$ 0,00\")\n",
    "      break\n",
    "    else:\n",
    "      print(\"Quantidade de latas necessárias: 1\")\n",
    "      print(\"Valor total: R$ 80,00\")\n",
    "      break\n",
    "  except:\n",
    "    print(\"Por favor, digite apenas números.\")\n",
    "    continue"
   ]
  }
 ],
 "metadata": {
  "kernelspec": {
   "display_name": "Python 3 (ipykernel)",
   "language": "python",
   "name": "python3"
  },
  "language_info": {
   "codemirror_mode": {
    "name": "ipython",
    "version": 3
   },
   "file_extension": ".py",
   "mimetype": "text/x-python",
   "name": "python",
   "nbconvert_exporter": "python",
   "pygments_lexer": "ipython3",
   "version": "3.8.10"
  }
 },
 "nbformat": 4,
 "nbformat_minor": 5
}
